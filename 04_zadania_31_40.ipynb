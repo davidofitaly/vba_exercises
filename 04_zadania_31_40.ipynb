{
  "nbformat": 4,
  "nbformat_minor": 0,
  "metadata": {
    "colab": {
      "provenance": [],
      "authorship_tag": "ABX9TyN8Muy3mIIyNarEQcG+Twxt",
      "include_colab_link": true
    },
    "kernelspec": {
      "name": "python3",
      "display_name": "Python 3"
    },
    "language_info": {
      "name": "python"
    }
  },
  "cells": [
    {
      "cell_type": "markdown",
      "metadata": {
        "id": "view-in-github",
        "colab_type": "text"
      },
      "source": [
        "<a href=\"https://colab.research.google.com/github/davidofitaly/vba_exercises/blob/main/04_zadania_31_40.ipynb\" target=\"_parent\"><img src=\"https://colab.research.google.com/assets/colab-badge.svg\" alt=\"Open In Colab\"/></a>"
      ]
    },
    {
      "cell_type": "markdown",
      "source": [
        "###Zadanie 31: Tworzenie Nowego Arkusza i Kopiowanie Danych\n",
        "Opis: Utwórz nowy arkusz o nazwie \"Kopia\" i skopiuj wszystkie dane z aktywnego arkusza do nowego arkusza."
      ],
      "metadata": {
        "id": "5aAJI6w7pusM"
      }
    },
    {
      "cell_type": "code",
      "execution_count": null,
      "metadata": {
        "id": "VUjmCLQTplvg"
      },
      "outputs": [],
      "source": [
        "Sub CopyToNewSheet()\n",
        "\n",
        "    Dim ws As Worksheet\n",
        "    Dim newWs As Worksheet\n",
        "\n",
        "    Set ws = ActiveSheet\n",
        "    Set newWs = ThisWorkbook.Worksheets.Add\n",
        "    newWs.Name = \"Kopia\"\n",
        "\n",
        "    ws.UsedRange.Copy Destination:=newWs.Range(\"A1\")\n",
        "\n",
        "End Sub\n"
      ]
    },
    {
      "cell_type": "markdown",
      "source": [
        "###Zadanie 32: Filtrowanie Danych i Kopiowanie Wyników\n",
        "Opis: Filtrowanie danych w kolumnie A według wartości większych niż 100 i kopiowanie wyników do nowego arkusza."
      ],
      "metadata": {
        "id": "LVqR1GKjs9TJ"
      }
    },
    {
      "cell_type": "code",
      "source": [
        "Sub FilterAndCopy()\n",
        "\n",
        "    Dim ws As Worksheet\n",
        "    Dim newWs As Worksheet\n",
        "\n",
        "    Set ws = ActiveSheet\n",
        "    Set newWs = ThisWorkbook.Worksheets.Add\n",
        "    newWs.Name = \"FiltrWyniki\"\n",
        "\n",
        "    ws.Range(\"A1\").AutoFilter Field:=1, Criteria1:=\">100\"\n",
        "    ws.Range(\"A1\").CurrentRegion.SpecialCells(xlCellTypeVisible).Copy Destination:=newWs.Range(\"A1\")\n",
        "    ws.AutoFilterMode = False\n",
        "\n",
        "\n",
        "End Sub\n"
      ],
      "metadata": {
        "id": "EKEhgVKktCvs"
      },
      "execution_count": null,
      "outputs": []
    },
    {
      "cell_type": "markdown",
      "source": [
        "###Zadanie 33: Znajdowanie Największej i Najmniejszej Wartości w Kolumnie A\n",
        "Opis: Znajdź największą i najmniejszą wartość w kolumnie A aktywnego arkusza, umieść je w komórkach B1 i B2 nowego arkusza o nazwie \"MaxMinResults\", dodaj nagłówki \"Maksymalna wartość\" i \"Minimalna wartość\" w komórkach A1 i A2, pogrub tekst w kolumnie A, wypełnij kolor tła komórek w kolumnie B kolorem zielonym, dodaj obramowanie do zakresu A1\n",
        "oraz automatycznie dopasuj szerokość kolumn A i B do zawartości."
      ],
      "metadata": {
        "id": "HFlE5Q9rxrrS"
      }
    },
    {
      "cell_type": "code",
      "source": [
        "Sub FindMaxMin()\n",
        "\n",
        "    Dim ws As Worksheet\n",
        "    Dim news As Worksheet\n",
        "    Dim v_max As Double\n",
        "    Dim v_min As Double\n",
        "    Dim lastrow As Long\n",
        "\n",
        "\n",
        "    Set ws = ActiveSheet\n",
        "    Set news = ThisWorkbook.Worksheets.Add\n",
        "\n",
        "    news.Name = \"max_min_value\"\n",
        "\n",
        "    lastrow = ws.Cells(ws.Rows.Count, 1).End(xlUp).Row\n",
        "\n",
        "    v_max = Application.WorksheetFunction.Max(ws.Range(\"A1:A\" & lastrow))\n",
        "    v_min = Application.WorksheetFunction.Min(ws.Range(\"A1:A\" & lastrow))\n",
        "\n",
        "    news.Range(\"A1\").Value = \"Maksymalna wartosć\"\n",
        "    news.Range(\"B1\").Value = v_max\n",
        "    news.Range(\"A2\").Value = \"Minimalna wartość\"\n",
        "    news.Range(\"B2\").Value = v_min\n",
        "\n",
        "    news.Range(\"A1:A2\").Font.Bold = True\n",
        "    news.Range(\"B1:B2\").Interior.Color = vbGreen\n",
        "    news.Columns(\"A:B\").AutoFit\n",
        "\n",
        "    With news.Range(\"A1:B2\").Borders\n",
        "        .LineStyle = xlContinuous\n",
        "        .ColorIndex = xlAutomatic\n",
        "\n",
        "    End With\n",
        "\n",
        "\n",
        "End Sub\n"
      ],
      "metadata": {
        "id": "VEI4aNorxxVD"
      },
      "execution_count": null,
      "outputs": []
    },
    {
      "cell_type": "markdown",
      "source": [
        "###Zadanie 34: Dodawanie Nowej Kolumny z Numeracją\n",
        "Opis: Dodaj nową kolumnę B i wstaw numerację od 1 do ostatniego wiersza w kolumnie A. Komórka B1 ma byc nagłówkiem o wartości B."
      ],
      "metadata": {
        "id": "lyZoyvZZ1kE4"
      }
    },
    {
      "cell_type": "code",
      "source": [
        "Sub AddNumbering()\n",
        "\n",
        "    Dim ws As Worksheet\n",
        "    Dim lastRow As Long\n",
        "    Dim i As Long\n",
        "\n",
        "    Set ws = ActiveSheet\n",
        "    lastRow = ws.Cells(ws.Rows.Count, 1).End(xlUp).Row\n",
        "\n",
        "    ws.Range(\"B1\").Value = \"B\"\n",
        "\n",
        "    For i = 2 To lastRow\n",
        "        ws.Cells(i, 2).Value = i - 1\n",
        "    Next i\n",
        "\n",
        "End Sub\n"
      ],
      "metadata": {
        "id": "eSaxFWAz3An8"
      },
      "execution_count": null,
      "outputs": []
    },
    {
      "cell_type": "markdown",
      "source": [
        "###Zadanie 35: Znajdowanie i Zastępowanie Tekstu\n",
        "Opis: Znajdź wszystkie wystąpienia tekstu \"StaryTekst\" w aktywnym arkuszu i zastąp je tekstem \"NowyTekst\"."
      ],
      "metadata": {
        "id": "yZ8Jqh1_4hD9"
      }
    },
    {
      "cell_type": "code",
      "source": [
        "Sub FindAndReplace()\n",
        "\n",
        "    Dim ws As Worksheet\n",
        "\n",
        "    Set ws = ActiveSheet\n",
        "    ws.Cells.Replace What:=\"StaryTekst\", Replacement:=\"NowyTekst\", LookAt:=xlPart, _\n",
        "                     SearchOrder:=xlByRows, MatchCase:=False\n",
        "\n",
        "End Sub\n"
      ],
      "metadata": {
        "id": "5zqQIGor4kJN"
      },
      "execution_count": null,
      "outputs": []
    },
    {
      "cell_type": "markdown",
      "source": [
        "###Zadanie 36: Wypełnianie komórek losowymi liczbami na podstawie wartości z komórki\n",
        "\n",
        "Opis: Stwórz makro, które wypełnia określoną liczbę komórek w kolumnie A, zaczynając od A5, losowymi wartościami z zakresu od 0 do 1. Liczba komórek do wypełnienia jest określona przez wartość w komórce A1."
      ],
      "metadata": {
        "id": "0gsodjRe88eJ"
      }
    },
    {
      "cell_type": "code",
      "source": [
        "Sub FillRandom()\n",
        "\n",
        "   Dim Liczba As Long 'Deklaracja zmiennej liczba jako całkowita długa\n",
        "   Dim Komorka As Range ' Deklaracja zmiennej określającej pojedynczą komórkę obszaru\n",
        "\n",
        "   Liczba = Range(\"A1\").Value 'Przypisanie zmiennej liczba wartości z komórki A1\n",
        "\n",
        "   For Each Komorka In Range(\"A5:A\" & 5 + Liczba - 1)\n",
        "      Komorka = Rnd 'Funkcja Rnd (funkcja wbudowana w VBA) zwraca losową liczbę z zakresu od 0 do 1\n",
        "   Next\n",
        "\n",
        "End Sub"
      ],
      "metadata": {
        "id": "Pfi5TV5T9hCp"
      },
      "execution_count": null,
      "outputs": []
    },
    {
      "cell_type": "markdown",
      "source": [
        "###Zadanie 37: Formatowanie liczbowe, tekstowe i formatowanie daty\n",
        "\n",
        "Opisz: Napisz makro, które ustawi formatowanie liczbowe z 2 miejscami po przecinku w kolumnie A, formatowanie tekstowe w kolumnie B, a formatowanie daty w kolumnie C. I autodopasuje wszystkie kolumny"
      ],
      "metadata": {
        "id": "CAT44cIa-qnT"
      }
    },
    {
      "cell_type": "code",
      "source": [
        "Sub ColumnFormatting()\n",
        "\n",
        "   Columns(\"A:A\").NumberFormat = \"0.00\"\n",
        "   Columns(\"B:B\").NumberFormat = \"@\"\n",
        "   Columns(\"C:C\").NumberFormat = \"m/d/yyyy\"\n",
        "   Columns(\"A:C\").EntireColumn.AutoFit\n",
        "\n",
        "End Sub"
      ],
      "metadata": {
        "id": "_sxOntuy_Gnu"
      },
      "execution_count": null,
      "outputs": []
    },
    {
      "cell_type": "markdown",
      "source": [
        "###Zadanie 38: Ukrywanie i pokazywanie kolumn\n",
        "\n",
        "Opis: Napisz makro, które  ukryje kolumnę B."
      ],
      "metadata": {
        "id": "gXVINPAyA1e7"
      }
    },
    {
      "cell_type": "code",
      "source": [
        "Sub HideColumn()\n",
        "\n",
        "    Columns(\"B:B\").EntireColumn.Hidden = True\n",
        "\n",
        "End Sub"
      ],
      "metadata": {
        "id": "drfriuOGBRb3"
      },
      "execution_count": null,
      "outputs": []
    },
    {
      "cell_type": "markdown",
      "source": [
        "###Zadanie 39: Ukrywanie i pokazywanie kolumn\n",
        "Opis: Napisz makro, które odkryje kolumnę B."
      ],
      "metadata": {
        "id": "q5cFfxIUBUyg"
      }
    },
    {
      "cell_type": "code",
      "source": [
        "Sub ShowColumn()\n",
        "\n",
        "    Columns(\"B:B\").EntireColumn.Hidden = False\n",
        "\n",
        "End Sub"
      ],
      "metadata": {
        "id": "-mN8ORzvBVDc"
      },
      "execution_count": null,
      "outputs": []
    },
    {
      "cell_type": "markdown",
      "source": [
        "###Zadanie 40: Zmiana szerokości kolumny\n",
        "\n",
        "Opis: Napisz makro, które ustawia szerokość kolumny C na 25 jednostek."
      ],
      "metadata": {
        "id": "RGoeTJEvBnf9"
      }
    },
    {
      "cell_type": "code",
      "source": [
        "Sub SetColumnWidthC()\n",
        "\n",
        "    Columns(\"C:C\").EntireColumn.ColumnWidth = 25\n",
        "\n",
        "End Sub"
      ],
      "metadata": {
        "id": "catnxcEeBz5F"
      },
      "execution_count": null,
      "outputs": []
    }
  ]
}