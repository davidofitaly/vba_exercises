{
  "nbformat": 4,
  "nbformat_minor": 0,
  "metadata": {
    "colab": {
      "provenance": [],
      "authorship_tag": "ABX9TyPj+NHh8utszQ/lE/Kgb7UQ",
      "include_colab_link": true
    },
    "kernelspec": {
      "name": "python3",
      "display_name": "Python 3"
    },
    "language_info": {
      "name": "python"
    }
  },
  "cells": [
    {
      "cell_type": "markdown",
      "metadata": {
        "id": "view-in-github",
        "colab_type": "text"
      },
      "source": [
        "<a href=\"https://colab.research.google.com/github/davidofitaly/vba_exercises/blob/main/05_zadania_41_50.ipynb\" target=\"_parent\"><img src=\"https://colab.research.google.com/assets/colab-badge.svg\" alt=\"Open In Colab\"/></a>"
      ]
    },
    {
      "cell_type": "markdown",
      "source": [
        "###Zadanie 41: Usuwanie kolumny\n",
        "\n",
        "Opis: Napisz makro, które usuwa kolumnę F. Upewnij się, że operacja usunięcia jest nieodwracalna, więc użyj komunikatu potwierdzającego przed usunięciem."
      ],
      "metadata": {
        "id": "pX7smRexCKtw"
      }
    },
    {
      "cell_type": "code",
      "execution_count": null,
      "metadata": {
        "id": "UPeL8BmjCGdQ"
      },
      "outputs": [],
      "source": [
        "Sub DeleteColumnF()\n",
        "\n",
        "    Dim answer As VbMsgBoxResult\n",
        "    answer = MsgBox(\"Are you sure you want to delete column F? This action cannot be undone.\", vbYesNo + vbQuestion, \"Confirmation\")\n",
        "\n",
        "    If answer = vbYes Then\n",
        "        Columns(\"F:F\").Delete\n",
        "    End If\n",
        "\n",
        "End Sub\n"
      ]
    },
    {
      "cell_type": "markdown",
      "source": [
        "###Zadanie 42: Wstawianie nowej kolumny\n",
        "\n",
        "Opis: Napisz makro, które wstawia nową kolumnę przed kolumną A i ustawia jej szerokość na 15 jednostek."
      ],
      "metadata": {
        "id": "SXboWdPFDyiV"
      }
    },
    {
      "cell_type": "code",
      "source": [
        "Sub InsertAndFormatColumnBeforeA()\n",
        "\n",
        "    Columns(\"A:A\").EntireColumn.Insert\n",
        "    Columns(\"A:A\").EntireColumn.ColumnWidth = 15\n",
        "\n",
        "End Sub"
      ],
      "metadata": {
        "id": "cy2Elz31Dyy1"
      },
      "execution_count": null,
      "outputs": []
    },
    {
      "cell_type": "markdown",
      "source": [
        "###Zadanie 43: Czyszczenie wartości w konkretnej kolumnie\n",
        "\n",
        "Opis: Napisz makro, które czyści wartości w kolumnie B w arkuszu o nazwie \"Arkusz1\". Makro powinno działać na aktywnym arkuszu i usunąć tylko wartości, pozostawiając formatowanie bez zmian."
      ],
      "metadata": {
        "id": "2bQXWn7ijLHr"
      }
    },
    {
      "cell_type": "code",
      "source": [
        "Sub ClearColumnB()\n",
        "\n",
        "    Dim ws As Worksheet\n",
        "    Set ws = ThisWorkbook.Sheets(\"Arkusz1\") ' Zamień \"Arkusz1\" na nazwę swojego arkusza\n",
        "\n",
        "    ' Clear values in column B\n",
        "    ws.Columns(\"B\").ClearContents\n",
        "\n",
        "End Sub\n"
      ],
      "metadata": {
        "id": "bnwDm0AWjggB"
      },
      "execution_count": null,
      "outputs": []
    },
    {
      "cell_type": "markdown",
      "source": [
        "###Zadanie 44: Czyszczenie wartości we wszystkich kolumnach\n",
        "\n",
        "\n",
        "Opis: Napisz makro, które czyści wartości we wszystkich kolumnach A, B i C w arkuszu o nazwie \"Arkusz1\". Makro powinno działać na aktywnym arkuszu i usunąć tylko wartości, pozostawiając formatowanie bez zmian."
      ],
      "metadata": {
        "id": "9oNpYsCIkA5L"
      }
    },
    {
      "cell_type": "code",
      "source": [
        "Sub ClearColumnsABC()\n",
        "\n",
        "    Dim ws As Worksheet\n",
        "    Set ws = ThisWorkbook.Sheets(\"Arkusz1\") ' Zamień \"Arkusz1\" na nazwę swojego arkusza\n",
        "\n",
        "    ' Clear values in columns A, B, and C\n",
        "    ws.Columns(\"A:C\").ClearContents\n",
        "\n",
        "End Sub\n"
      ],
      "metadata": {
        "id": "G4htt8t6kIbG"
      },
      "execution_count": null,
      "outputs": []
    }
  ]
}