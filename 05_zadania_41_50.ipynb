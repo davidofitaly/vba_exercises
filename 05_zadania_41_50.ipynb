{
  "nbformat": 4,
  "nbformat_minor": 0,
  "metadata": {
    "colab": {
      "provenance": [],
      "authorship_tag": "ABX9TyPdKjrEZ+VZxx002yyN0ccq",
      "include_colab_link": true
    },
    "kernelspec": {
      "name": "python3",
      "display_name": "Python 3"
    },
    "language_info": {
      "name": "python"
    }
  },
  "cells": [
    {
      "cell_type": "markdown",
      "metadata": {
        "id": "view-in-github",
        "colab_type": "text"
      },
      "source": [
        "<a href=\"https://colab.research.google.com/github/davidofitaly/vba_exercises/blob/main/05_zadania_41_50.ipynb\" target=\"_parent\"><img src=\"https://colab.research.google.com/assets/colab-badge.svg\" alt=\"Open In Colab\"/></a>"
      ]
    },
    {
      "cell_type": "markdown",
      "source": [
        "###Zadanie 41: Usuwanie kolumny\n",
        "\n",
        "Opis: Napisz makro, które usuwa kolumnę F. Upewnij się, że operacja usunięcia jest nieodwracalna, więc użyj komunikatu potwierdzającego przed usunięciem."
      ],
      "metadata": {
        "id": "pX7smRexCKtw"
      }
    },
    {
      "cell_type": "code",
      "execution_count": null,
      "metadata": {
        "id": "UPeL8BmjCGdQ"
      },
      "outputs": [],
      "source": [
        "Sub DeleteColumnF()\n",
        "\n",
        "    Dim answer As VbMsgBoxResult\n",
        "    answer = MsgBox(\"Are you sure you want to delete column F? This action cannot be undone.\", vbYesNo + vbQuestion, \"Confirmation\")\n",
        "\n",
        "    If answer = vbYes Then\n",
        "        Columns(\"F:F\").Delete\n",
        "    End If\n",
        "\n",
        "End Sub\n"
      ]
    },
    {
      "cell_type": "markdown",
      "source": [
        "###Zadanie 42: Wstawianie nowej kolumny\n",
        "\n",
        "Opis: Napisz makro, które wstawia nową kolumnę przed kolumną A i ustawia jej szerokość na 15 jednostek."
      ],
      "metadata": {
        "id": "SXboWdPFDyiV"
      }
    },
    {
      "cell_type": "code",
      "source": [
        "Sub InsertAndFormatColumnBeforeA()\n",
        "\n",
        "    Columns(\"A:A\").EntireColumn.Insert\n",
        "    Columns(\"A:A\").EntireColumn.ColumnWidth = 15\n",
        "\n",
        "End Sub"
      ],
      "metadata": {
        "id": "cy2Elz31Dyy1"
      },
      "execution_count": null,
      "outputs": []
    }
  ]
}