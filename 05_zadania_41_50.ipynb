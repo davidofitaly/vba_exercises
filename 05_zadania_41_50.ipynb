{
  "nbformat": 4,
  "nbformat_minor": 0,
  "metadata": {
    "colab": {
      "provenance": [],
      "authorship_tag": "ABX9TyMu3GHz8xrhikjbufa9Tcwt",
      "include_colab_link": true
    },
    "kernelspec": {
      "name": "python3",
      "display_name": "Python 3"
    },
    "language_info": {
      "name": "python"
    }
  },
  "cells": [
    {
      "cell_type": "markdown",
      "metadata": {
        "id": "view-in-github",
        "colab_type": "text"
      },
      "source": [
        "<a href=\"https://colab.research.google.com/github/davidofitaly/vba_exercises/blob/main/05_zadania_41_50.ipynb\" target=\"_parent\"><img src=\"https://colab.research.google.com/assets/colab-badge.svg\" alt=\"Open In Colab\"/></a>"
      ]
    },
    {
      "cell_type": "markdown",
      "source": [
        "###Zadanie 41: Usuwanie kolumny\n",
        "\n",
        "Opis: Napisz makro, które usuwa kolumnę F. Upewnij się, że operacja usunięcia jest nieodwracalna, więc użyj komunikatu potwierdzającego przed usunięciem."
      ],
      "metadata": {
        "id": "pX7smRexCKtw"
      }
    },
    {
      "cell_type": "code",
      "execution_count": null,
      "metadata": {
        "id": "UPeL8BmjCGdQ"
      },
      "outputs": [],
      "source": [
        "Sub DeleteColumnF()\n",
        "\n",
        "    Dim answer As VbMsgBoxResult\n",
        "    answer = MsgBox(\"Are you sure you want to delete column F? This action cannot be undone.\", vbYesNo + vbQuestion, \"Confirmation\")\n",
        "\n",
        "    If answer = vbYes Then\n",
        "        Columns(\"F:F\").Delete\n",
        "    End If\n",
        "\n",
        "End Sub\n"
      ]
    },
    {
      "cell_type": "markdown",
      "source": [
        "###Zadanie 42: Wstawianie nowej kolumny\n",
        "\n",
        "Opis: Napisz makro, które wstawia nową kolumnę przed kolumną A i ustawia jej szerokość na 15 jednostek."
      ],
      "metadata": {
        "id": "SXboWdPFDyiV"
      }
    },
    {
      "cell_type": "code",
      "source": [
        "Sub InsertAndFormatColumnBeforeA()\n",
        "\n",
        "    Columns(\"A:A\").EntireColumn.Insert\n",
        "    Columns(\"A:A\").EntireColumn.ColumnWidth = 15\n",
        "\n",
        "End Sub"
      ],
      "metadata": {
        "id": "cy2Elz31Dyy1"
      },
      "execution_count": null,
      "outputs": []
    },
    {
      "cell_type": "markdown",
      "source": [
        "###Zadanie 43: Czyszczenie wartości w konkretnej kolumnie\n",
        "\n",
        "Opis: Napisz makro, które czyści wartości w kolumnie B w arkuszu o nazwie \"Arkusz1\". Makro powinno działać na aktywnym arkuszu i usunąć tylko wartości, pozostawiając formatowanie bez zmian."
      ],
      "metadata": {
        "id": "2bQXWn7ijLHr"
      }
    },
    {
      "cell_type": "code",
      "source": [
        "Sub ClearColumnB()\n",
        "\n",
        "    Dim ws As Worksheet\n",
        "    Set ws = ThisWorkbook.Sheets(\"Arkusz1\") ' Zamień \"Arkusz1\" na nazwę swojego arkusza\n",
        "\n",
        "    ' Clear values in column B\n",
        "    ws.Columns(\"B\").ClearContents\n",
        "\n",
        "End Sub\n"
      ],
      "metadata": {
        "id": "bnwDm0AWjggB"
      },
      "execution_count": null,
      "outputs": []
    },
    {
      "cell_type": "markdown",
      "source": [
        "###Zadanie 44: Czyszczenie wartości we wszystkich kolumnach\n",
        "\n",
        "\n",
        "Opis: Napisz makro, które czyści wartości we wszystkich kolumnach A, B i C w arkuszu o nazwie \"Arkusz1\". Makro powinno działać na aktywnym arkuszu i usunąć tylko wartości, pozostawiając formatowanie bez zmian."
      ],
      "metadata": {
        "id": "9oNpYsCIkA5L"
      }
    },
    {
      "cell_type": "code",
      "source": [
        "Sub ClearColumnsABC()\n",
        "\n",
        "    Dim ws As Worksheet\n",
        "    Set ws = ThisWorkbook.Sheets(\"Arkusz1\") ' Zamień \"Arkusz1\" na nazwę swojego arkusza\n",
        "\n",
        "    ' Clear values in columns A, B, and C\n",
        "    ws.Columns(\"A:C\").ClearContents\n",
        "\n",
        "End Sub\n"
      ],
      "metadata": {
        "id": "G4htt8t6kIbG"
      },
      "execution_count": null,
      "outputs": []
    },
    {
      "cell_type": "markdown",
      "source": [
        "###Zadanie 45: Czyszczenie wartości we wszystkich kolumnach\n",
        "\n",
        "Opis: Napisz makro, które czyści wartości we wszystkich kolumnach A, B i C w arkuszu o nazwie \"Arkusz1\". Makro powinno działać na aktywnym arkuszu i usunąć tylko wartości, pozostawiając formatowanie bez zmian."
      ],
      "metadata": {
        "id": "63ROREf__py_"
      }
    },
    {
      "cell_type": "code",
      "source": [
        "Sub ClearColumnsABC()\n",
        "\n",
        "    Dim ws As Worksheet\n",
        "    Set ws = ThisWorkbook.Sheets(\"Arkusz1\") ' Zamień \"Arkusz1\" na nazwę swojego arkusza\n",
        "\n",
        "    ' Czyszczenie wartości w kolumnach A, B i C\n",
        "    ws.Columns(\"A:C\").ClearContents\n",
        "\n",
        "End Sub\n"
      ],
      "metadata": {
        "id": "1ZnzpGZF_smF"
      },
      "execution_count": null,
      "outputs": []
    },
    {
      "cell_type": "markdown",
      "source": [
        "###Zadanie 46: Kolorowanie komórek według liczby podanej przez użytkownika\n",
        "\n",
        "Opis: Napisz makro, które zapyta użytkownika o liczbę całkowitą i pokoloruje tyle komórek w kolumnie A, ile podał użytkownik."
      ],
      "metadata": {
        "id": "h6F4mlNo_uxe"
      }
    },
    {
      "cell_type": "code",
      "source": [
        "Sub ColorCellsByUserInput()\n",
        "\n",
        "    Dim Liczba As Long\n",
        "    Dim i As Long\n",
        "\n",
        "    ' Pobranie liczby od użytkownika\n",
        "    Liczba = InputBox(\"Podaj liczbę całkowitą\", \"Komunikat\")\n",
        "\n",
        "    ' Sprawdzenie, czy liczba jest poprawna\n",
        "    If Liczba > 0 Then\n",
        "        ' Kolorowanie komórek w kolumnie A\n",
        "        For i = 1 To Liczba\n",
        "            Cells(i, 1).Interior.Color = RGB(255, 165, 0) ' Kolor pomarańczowy\n",
        "        Next i\n",
        "    Else\n",
        "        MsgBox \"Proszę podać liczbę całkowitą większą niż 0.\", vbExclamation\n",
        "    End If\n",
        "\n",
        "End Sub\n"
      ],
      "metadata": {
        "id": "XxtB_Aca_36X"
      },
      "execution_count": null,
      "outputs": []
    },
    {
      "cell_type": "markdown",
      "source": [
        "###Zadanie 47: Kolorowanie liczb ujemnych w zaznaczonych komórkach\n",
        "\n",
        "Opis: Napisz makro, które pokoloruje liczby ujemne w zaznaczonych komórkach."
      ],
      "metadata": {
        "id": "n7MhnHcjAO37"
      }
    },
    {
      "cell_type": "code",
      "source": [
        "Sub ColorNegativeNumbers()\n",
        "\n",
        "    Dim Cell As Range\n",
        "    For Each Cell In Selection\n",
        "        If Cell.Value < 0 Then\n",
        "            Cell.Interior.Color = RGB(255, 0, 0) ' Red color\n",
        "        End If\n",
        "    Next Cell\n",
        "\n",
        "End Sub"
      ],
      "metadata": {
        "id": "CCyXRLcoAW9N"
      },
      "execution_count": null,
      "outputs": []
    },
    {
      "cell_type": "markdown",
      "source": [
        "###Zadanie 48: Wstawianie formuły SUM w pierwszą pustą komórkę\n",
        "\n",
        "Opis: Napisz makro, które znajdzie pierwszą pustą komórkę w kolumnie A i wstawi formułę SUM do tej komórki, sumując wszystkie wartości od początku kolumny A do wiersza tuż przed pustą komórką."
      ],
      "metadata": {
        "id": "HBj56aedAc99"
      }
    },
    {
      "cell_type": "code",
      "source": [
        "Sub InsertSumInFirstEmptyCell()\n",
        "\n",
        "    Dim rowNum As Long\n",
        "\n",
        "    rowNum = 1\n",
        "\n",
        "    While ActiveCell.Cells(rowNum, \"A\") <> \"\"\n",
        "        rowNum = rowNum + 1\n",
        "    Wend\n",
        "\n",
        "    ActiveCell.Cells(rowNum, \"A\").Formula = \"=SUM(\" & ActiveCell.Resize(rowNum, 1).Address(False, False) & \")\"\n",
        "End Sub"
      ],
      "metadata": {
        "id": "L5zY5gRqC99j"
      },
      "execution_count": null,
      "outputs": []
    },
    {
      "cell_type": "markdown",
      "source": [
        "###Zadanie 49: Liczenie liczby komórek zawierających liczby w zaznaczeniu\n",
        "\n",
        "Opis: Napisz makro, które dla zaznaczonych komórek obliczy, ile z tych komórek zawiera liczby."
      ],
      "metadata": {
        "id": "DYpC5d13D0lu"
      }
    },
    {
      "cell_type": "code",
      "source": [
        "Sub CountCellsWithNumbers()\n",
        "\n",
        "    Dim cell As Range\n",
        "    Dim count As Long\n",
        "\n",
        "    count = 0\n",
        "\n",
        "    ' Iteracja przez zaznaczone komórki\n",
        "    For Each cell In Selection\n",
        "        ' Sprawdzenie, czy komórka zawiera liczbę\n",
        "        If IsNumeric(cell.Value) Then\n",
        "            count = count + 1\n",
        "        End If\n",
        "    Next cell\n",
        "\n",
        "    ' Wyświetlenie wyniku\n",
        "    MsgBox \"Liczba komórek zawierających liczby: \" & count\n",
        "\n",
        "End Sub\n"
      ],
      "metadata": {
        "id": "ZpGpYOz3D0QK"
      },
      "execution_count": null,
      "outputs": []
    },
    {
      "cell_type": "markdown",
      "source": [
        "###Zadanie 50: Ukrywanie wszystkich arkuszy poza pierwszym\n",
        "\n",
        "Opis: Napisz makro, które ukryje wszystkie arkusze w skoroszycie, z wyjątkiem pierwszego."
      ],
      "metadata": {
        "id": "0wZrU5LAEFgc"
      }
    },
    {
      "cell_type": "code",
      "source": [
        "Sub HideAllSheetsExceptFirst()\n",
        "\n",
        "    Dim ws As Worksheet\n",
        "\n",
        "    ' Iteracja przez wszystkie arkusze w skoroszycie\n",
        "    For Each ws In ThisWorkbook.Worksheets\n",
        "        ' Sprawdzenie, czy arkusz nie jest pierwszym arkuszem\n",
        "        If ws.Index <> 1 Then\n",
        "            ws.Visible = xlSheetHidden\n",
        "        End If\n",
        "    Next ws\n",
        "\n",
        "End Sub"
      ],
      "metadata": {
        "id": "m9LDm41LEJZH"
      },
      "execution_count": null,
      "outputs": []
    }
  ]
}