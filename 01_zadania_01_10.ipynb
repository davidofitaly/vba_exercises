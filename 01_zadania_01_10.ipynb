{
  "nbformat": 4,
  "nbformat_minor": 0,
  "metadata": {
    "colab": {
      "provenance": [],
      "authorship_tag": "ABX9TyOJV4aJr2MjtQ3xSGUV2cJC",
      "include_colab_link": true
    },
    "kernelspec": {
      "name": "python3",
      "display_name": "Python 3"
    },
    "language_info": {
      "name": "python"
    }
  },
  "cells": [
    {
      "cell_type": "markdown",
      "metadata": {
        "id": "view-in-github",
        "colab_type": "text"
      },
      "source": [
        "<a href=\"https://colab.research.google.com/github/davidofitaly/vba_exercises/blob/main/01_zadania_01_10.ipynb\" target=\"_parent\"><img src=\"https://colab.research.google.com/assets/colab-badge.svg\" alt=\"Open In Colab\"/></a>"
      ]
    },
    {
      "cell_type": "markdown",
      "source": [
        "### Zadanie 1: Wyświetlenie wiadomości\n",
        "\n",
        "Opis: Napisz makro, które wyświetli wiadomość \"Hello, World!\"."
      ],
      "metadata": {
        "id": "ejnCsu2qxag1"
      }
    },
    {
      "cell_type": "code",
      "execution_count": null,
      "metadata": {
        "id": "ovxPorNhxaFw"
      },
      "outputs": [],
      "source": [
        "Sub HelloWorld()\n",
        "\n",
        "    MsgBox \"Hello, World!\"\n",
        "\n",
        "End Sub\n"
      ]
    },
    {
      "cell_type": "markdown",
      "source": [
        "### Zadanie 2: Dodawanie dwóch liczb\n",
        "\n",
        "Opis: Napisz makro, które dodaje dwie liczby i wyświetla wynik."
      ],
      "metadata": {
        "id": "NXjuv0zGxohh"
      }
    },
    {
      "cell_type": "code",
      "source": [
        "Sub AddNumbers()\n",
        "\n",
        "    Dim num1 As Integer\n",
        "    Dim num2 As Integer\n",
        "    Dim sum As Integer\n",
        "\n",
        "    num1 = 5\n",
        "    num2 = 10\n",
        "    sum = num1 + num2\n",
        "\n",
        "    MsgBox \"The sum is \" & sum\n",
        "\n",
        "End Sub\n"
      ],
      "metadata": {
        "colab": {
          "base_uri": "https://localhost:8080/",
          "height": 111
        },
        "id": "kk_vs8k0xwh9",
        "outputId": "1a8bc4ca-b190-4003-f9bb-86468b02d009"
      },
      "execution_count": 1,
      "outputs": [
        {
          "output_type": "error",
          "ename": "SyntaxError",
          "evalue": "invalid syntax (<ipython-input-1-e3450806d99c>, line 1)",
          "traceback": [
            "\u001b[0;36m  File \u001b[0;32m\"<ipython-input-1-e3450806d99c>\"\u001b[0;36m, line \u001b[0;32m1\u001b[0m\n\u001b[0;31m    Sub AddNumbers()\u001b[0m\n\u001b[0m        ^\u001b[0m\n\u001b[0;31mSyntaxError\u001b[0m\u001b[0;31m:\u001b[0m invalid syntax\n"
          ]
        }
      ]
    },
    {
      "cell_type": "markdown",
      "source": [
        "###Zadanie 3: Zmiana wartości komórki\n",
        "Opis: Napisz makro, które zmienia wartość komórki A1 na \"VBA\"."
      ],
      "metadata": {
        "id": "sR8lWAGZyYF7"
      }
    },
    {
      "cell_type": "code",
      "source": [
        "Sub ChangeCellValue()\n",
        "\n",
        "    Range(\"A1\").Value = \"VBA\"\n",
        "\n",
        "End Sub\n"
      ],
      "metadata": {
        "id": "fllBwkMKyjo_"
      },
      "execution_count": null,
      "outputs": []
    },
    {
      "cell_type": "markdown",
      "source": [
        "###Zadanie 4: Pętla For\n",
        "Opis: Napisz makro, które wypisze liczby od 1 do 10 w kolumnie A."
      ],
      "metadata": {
        "id": "xRIoWM__ys1g"
      }
    },
    {
      "cell_type": "code",
      "source": [
        "Sub LoopNumbers()\n",
        "\n",
        "    Dim i As Integer\n",
        "    For i = 1 To 10\n",
        "        Cells(i, 1).Value = i\n",
        "    Next i\n",
        "\n",
        "End Sub\n"
      ],
      "metadata": {
        "id": "17zOlToiyusG"
      },
      "execution_count": null,
      "outputs": []
    },
    {
      "cell_type": "markdown",
      "source": [
        "###Zadanie 5: Warunek If\n",
        "Opis: Napisz makro, które sprawdzi, czy wartość w komórce A1 jest większa niż 10, i wyświetli odpowiednią wiadomość."
      ],
      "metadata": {
        "id": "hNIXD5WMyyxN"
      }
    },
    {
      "cell_type": "code",
      "source": [
        "Sub CheckValue()\n",
        "\n",
        "    If Range(\"A1\").Value > 10 Then\n",
        "        MsgBox \"Value is greater than 10\"\n",
        "    Else\n",
        "        MsgBox \"Value is 10 or less\"\n",
        "    End If\n",
        "\n",
        "End Sub\n"
      ],
      "metadata": {
        "id": "FkD1bncOy4kj"
      },
      "execution_count": null,
      "outputs": []
    },
    {
      "cell_type": "markdown",
      "source": [
        "###Zadanie 6: Wprowadzenie danych przez użytkownika\n",
        "Opis: Napisz makro, które poprosi użytkownika o wprowadzenie liczby i wyświetli tę liczbę."
      ],
      "metadata": {
        "id": "YlpDGGgny792"
      }
    },
    {
      "cell_type": "code",
      "source": [
        "Sub GetUserInput()\n",
        "\n",
        "    Dim userInput As String\n",
        "    userInput = InputBox(\"Please enter a number:\")\n",
        "    MsgBox \"You entered: \" & userInput\n",
        "\n",
        "End Sub\n"
      ],
      "metadata": {
        "id": "o5EyhCtdzPD7"
      },
      "execution_count": null,
      "outputs": []
    },
    {
      "cell_type": "markdown",
      "source": [
        "###Zadanie 7: Obliczanie sumy wartości w kolumnie\n",
        "Opis: Napisz makro, które obliczy sumę wartości w kolumnie A (od A1 do A10). Wynik ma zostać wyświetlony w komórce A15"
      ],
      "metadata": {
        "id": "pFN8rOMJzRpX"
      }
    },
    {
      "cell_type": "code",
      "source": [
        "Sub SumColumn()\n",
        "\n",
        "    Dim sum As Double\n",
        "    sum = Application.WorksheetFunction.Sum(Range(\"A1:A10\"))\n",
        "    Range(\"A15\").Value = sum\n",
        "\n",
        "End Sub\n"
      ],
      "metadata": {
        "id": "_KYrecDc0oUo"
      },
      "execution_count": null,
      "outputs": []
    },
    {
      "cell_type": "markdown",
      "source": [
        "###Zadanie 8: Tworzenie nowego arkusza\n",
        "Opis: Napisz makro, które utworzy nowy arkusz i nazwie go \"NowyArkusz\"."
      ],
      "metadata": {
        "id": "TB_Kata5zuCH"
      }
    },
    {
      "cell_type": "code",
      "source": [
        "Sub CreateNewSheet()\n",
        "\n",
        "    Dim ws As Worksheet\n",
        "    Set ws = Sheets.Add\n",
        "    ws.Name = \"NowyArkusz\"\n",
        "\n",
        "End Sub\n"
      ],
      "metadata": {
        "colab": {
          "base_uri": "https://localhost:8080/",
          "height": 111
        },
        "id": "2qPQXEqg1c37",
        "outputId": "ea9516d2-a38d-4578-cb01-6935da821808"
      },
      "execution_count": 2,
      "outputs": [
        {
          "output_type": "error",
          "ename": "SyntaxError",
          "evalue": "invalid syntax (<ipython-input-2-1259edf73ae5>, line 1)",
          "traceback": [
            "\u001b[0;36m  File \u001b[0;32m\"<ipython-input-2-1259edf73ae5>\"\u001b[0;36m, line \u001b[0;32m1\u001b[0m\n\u001b[0;31m    Sub CreateNewSheet()\u001b[0m\n\u001b[0m        ^\u001b[0m\n\u001b[0;31mSyntaxError\u001b[0m\u001b[0;31m:\u001b[0m invalid syntax\n"
          ]
        }
      ]
    },
    {
      "cell_type": "markdown",
      "source": [
        "###Zadanie 9: Formatowanie komórek\n",
        "Opis: Napisz makro, które zmieni kolor tła komórki A1 na żółty."
      ],
      "metadata": {
        "id": "KC80VXms1dRm"
      }
    },
    {
      "cell_type": "code",
      "source": [
        "Sub FormatCell()\n",
        "\n",
        "    Range(\"A1\").Interior.Color = vbYellow\n",
        "\n",
        "End Sub\n"
      ],
      "metadata": {
        "id": "cSRehn3o2otr"
      },
      "execution_count": null,
      "outputs": []
    },
    {
      "cell_type": "code",
      "source": [
        "kodzisk"
      ],
      "metadata": {
        "id": "JtanBWqH3PR9"
      },
      "execution_count": null,
      "outputs": []
    },
    {
      "cell_type": "markdown",
      "source": [
        "###Zadanie 10: Kopiowanie danych\n",
        "Opis: Napisz makro, które skopiuje wartość z komórki A1 do komórki B1."
      ],
      "metadata": {
        "id": "saBma-4Z3YF-"
      }
    },
    {
      "cell_type": "markdown",
      "source": [
        "##pomysl na zadania\n",
        "\n",
        "odliczac sume po cale kolumnie albo wierszu\n",
        "\n",
        "ZADANIA Z  Application.WorksheetFunction"
      ],
      "metadata": {
        "id": "dJWG7ANL1AZc"
      }
    },
    {
      "cell_type": "code",
      "source": [
        "Sub CopyCellValue()\n",
        "\n",
        "    Range(\"B1\").Value = Range(\"A1\").Value\n",
        "\n",
        "End Sub\n"
      ],
      "metadata": {
        "colab": {
          "base_uri": "https://localhost:8080/",
          "height": 111
        },
        "id": "0WDP4FmO3cIx",
        "outputId": "9ab4ba23-9b11-449c-cff4-b0799ca6f8ff"
      },
      "execution_count": 3,
      "outputs": [
        {
          "output_type": "error",
          "ename": "SyntaxError",
          "evalue": "invalid syntax (<ipython-input-3-1008a54a4bfa>, line 1)",
          "traceback": [
            "\u001b[0;36m  File \u001b[0;32m\"<ipython-input-3-1008a54a4bfa>\"\u001b[0;36m, line \u001b[0;32m1\u001b[0m\n\u001b[0;31m    Sub CopyCellValue()\u001b[0m\n\u001b[0m        ^\u001b[0m\n\u001b[0;31mSyntaxError\u001b[0m\u001b[0;31m:\u001b[0m invalid syntax\n"
          ]
        }
      ]
    }
  ]
}