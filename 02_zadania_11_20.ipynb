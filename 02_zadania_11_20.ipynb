{
  "nbformat": 4,
  "nbformat_minor": 0,
  "metadata": {
    "colab": {
      "provenance": [],
      "authorship_tag": "ABX9TyOs8wm8KB1p2rCN3c7qLwZA",
      "include_colab_link": true
    },
    "kernelspec": {
      "name": "python3",
      "display_name": "Python 3"
    },
    "language_info": {
      "name": "python"
    }
  },
  "cells": [
    {
      "cell_type": "markdown",
      "metadata": {
        "id": "view-in-github",
        "colab_type": "text"
      },
      "source": [
        "<a href=\"https://colab.research.google.com/github/davidofitaly/vba_exercises/blob/main/02_zadania_11_20.ipynb\" target=\"_parent\"><img src=\"https://colab.research.google.com/assets/colab-badge.svg\" alt=\"Open In Colab\"/></a>"
      ]
    },
    {
      "cell_type": "markdown",
      "source": [
        "###Zadanie 11: Wypełnianie zakresu wartościami\n",
        "\n",
        "Opis: Napisz makro, które wypełni zakres A1\n",
        "wartościami od 1 do 5."
      ],
      "metadata": {
        "id": "ku44wXGG7qSc"
      }
    },
    {
      "cell_type": "code",
      "execution_count": null,
      "metadata": {
        "id": "YfVSqcdJ4f_3"
      },
      "outputs": [],
      "source": [
        "Sub FillRange()\n",
        "\n",
        "    Dim i As Integer\n",
        "    For i = 1 To 5\n",
        "        Cells(i, 1).Value = i\n",
        "    Next i\n",
        "\n",
        "End Sub\n"
      ]
    },
    {
      "cell_type": "markdown",
      "source": [
        "###Zadanie 12: Obliczanie średniej wartości\n",
        "\n",
        "Opis: Napisz makro, które obliczy średnią wartość w kolumnie A. Wynik wyświetl w komórce H5 oraz wyświetli ją w oknie komunikatu."
      ],
      "metadata": {
        "id": "vnHPbeHu8HWC"
      }
    },
    {
      "cell_type": "code",
      "source": [
        "Sub AverageValue()\n",
        "\n",
        "    Dim avg As Double\n",
        "    avg = Application.WorksheetFunction.Average(Range(\"A1:A10\"))\n",
        "    Range(\"H5\").Value = avg\n",
        "    MsgBox \"The average value is \" & avg\n",
        "\n",
        "End Sub"
      ],
      "metadata": {
        "id": "eU14c5v08Rfc"
      },
      "execution_count": null,
      "outputs": []
    },
    {
      "cell_type": "markdown",
      "source": [
        "###Zadanie 13: Przesuwanie wartości w dół\n",
        "Opis: Napisz makro, które przesuwa wartości w zakresie A1\n",
        "o jedną komórkę w dół (czyli wartość z A1 przenosi się do A2, z A2 do A3, itd.). Dodatkowo stwórz arkusz o nazwie \"Arkusz1\" i w tym skoroszycie wykonaj zadanie, będąc w innym arkuszu."
      ],
      "metadata": {
        "id": "jxfqfVwb996W"
      }
    },
    {
      "cell_type": "code",
      "source": [
        "Sub ShiftValuesDown()\n",
        "\n",
        "    Dim lastRow As Long\n",
        "    Dim ws As Worksheet\n",
        "    Set ws = ActiveSheet ' Możesz ustawić ws na określony arkusz, jeśli chcesz\n",
        "\n",
        "    ' Znajdź ostatni używany wiersz w kolumnie A\n",
        "    lastRow = ws.Cells(ws.Rows.Count, 1).End(xlUp).Row\n",
        "\n",
        "    ' Przesuń wartości o jeden wiersz w dół\n",
        "    ws.Range(\"A1:A\" & lastRow).Offset(1, 0).Value = ws.Range(\"A1:A\" & lastRow).Value\n",
        "\n",
        "    ' Wyczyść zawartość pierwszego wiersza\n",
        "    ws.Cells(1, 1).ClearContents\n",
        "\n",
        "End Sub"
      ],
      "metadata": {
        "id": "lDjKSGOR_3x7"
      },
      "execution_count": null,
      "outputs": []
    },
    {
      "cell_type": "markdown",
      "source": [
        "###Zadanie 14: Usuwanie zawartości komórek\n",
        "Opis: Napisz makro, które usunie zawartość komórek w zakresie B3:B7."
      ],
      "metadata": {
        "id": "HtK8NLH8Dnzt"
      }
    },
    {
      "cell_type": "code",
      "source": [
        "Sub ClearCells()\n",
        "    Range(\"B1:B7\").ClearContents\n",
        "End Sub\n"
      ],
      "metadata": {
        "id": "cjDQDi_YDpt_"
      },
      "execution_count": null,
      "outputs": []
    },
    {
      "cell_type": "markdown",
      "source": [
        "###Zadanie 15: Usuwanie Wszystkich Danych z Aktywnego Arkusza\n",
        "Opis: Napisz makro, które usunie wszystkie dane z aktywnego arkusza. Formatowanie, komentarze i inne ustawienia pozostaną nienaruszone."
      ],
      "metadata": {
        "id": "ro6sug1WEuwP"
      }
    },
    {
      "cell_type": "code",
      "source": [
        "Sub ClearAllData()\n",
        "\n",
        "    Dim ws As Worksheet\n",
        "    Set ws = ActiveSheet\n",
        "\n",
        "    ws.Cells.ClearContents\n",
        "\n",
        "End Sub\n"
      ],
      "metadata": {
        "id": "jug6U6P6Ewr_"
      },
      "execution_count": null,
      "outputs": []
    },
    {
      "cell_type": "markdown",
      "source": [
        "###Zadanie 16: Usuwanie Wszystkich Danych z Aktywnego Arkusza\n",
        "Opis: Napisz makro, które usunie wszystkie dane z aktywnego arkusza. Formatowanie, komentarze i inne ustawienia również mają zostać usunięte."
      ],
      "metadata": {
        "id": "thltpFVcE4b3"
      }
    },
    {
      "cell_type": "code",
      "source": [
        "Sub ClearAllData()\n",
        "    Dim ws As Worksheet\n",
        "    Set ws = ActiveSheet\n",
        "\n",
        "\n",
        "    ws.Cells.Clear\n",
        "End Sub\n"
      ],
      "metadata": {
        "id": "NzJtFmu2FAN8"
      },
      "execution_count": null,
      "outputs": []
    },
    {
      "cell_type": "markdown",
      "source": [
        "###Zadanie 17: Formatowanie tekstu w komórce\n",
        "Opis: Napisz makro, które ustawi pogrubienie tekstu w komórce C1."
      ],
      "metadata": {
        "id": "JjV6f4WbFLBY"
      }
    },
    {
      "cell_type": "code",
      "source": [
        "Sub BoldText()\n",
        "\n",
        "    Range(\"C1\").Font.Bold = True\n",
        "\n",
        "End Sub\n"
      ],
      "metadata": {
        "id": "u34b4E39FMZs"
      },
      "execution_count": null,
      "outputs": []
    },
    {
      "cell_type": "markdown",
      "source": [
        "###Zadanie 18: Tworzenie wykresu\n",
        "Opis: Napisz makro, które stworzy wykres słupkowy na podstawie danych w zakresie A1:B5."
      ],
      "metadata": {
        "id": "eupEik3BGAhj"
      }
    },
    {
      "cell_type": "code",
      "source": [
        "Sub CreateChart()\n",
        "\n",
        "    Dim chartObj As ChartObject\n",
        "    Set chartObj = ActiveSheet.ChartObjects.Add(Left:=100, Width:=375, Top:=50, Height:=225)\n",
        "    With chartObj.Chart\n",
        "        .SetSourceData Source:=Range(\"A1:B5\")\n",
        "        .ChartType = xlColumnClustered\n",
        "    End With\n",
        "\n",
        "End Sub\n"
      ],
      "metadata": {
        "id": "VjkxFtDhIiIf"
      },
      "execution_count": null,
      "outputs": []
    },
    {
      "cell_type": "markdown",
      "source": [
        "###Zadanie 19: Filtrowanie danych\n",
        "Opis: Napisz makro, które zastosuje filtr na kolumnie A, aby pokazać tylko wiersze, gdzie wartość wynosi \"ABC\"."
      ],
      "metadata": {
        "id": "VrWrhEWxImCC"
      }
    },
    {
      "cell_type": "code",
      "source": [
        "Sub FilterData()\n",
        "\n",
        "    Range(\"A1:A10\").AutoFilter Field:=1, Criteria1:=\"ABC\"\n",
        "\n",
        "End Sub\n"
      ],
      "metadata": {
        "id": "im5oBqaEIklH"
      },
      "execution_count": null,
      "outputs": []
    },
    {
      "cell_type": "markdown",
      "source": [
        "###Zadanie 20: Sumowanie wartości w wierszu\n",
        "Opis: Napisz makro, które obliczy sumę wartości w wierszu 1 (od A1 do E1) i umieści wynik w komórce F1."
      ],
      "metadata": {
        "id": "ZYRjXcW3KeXN"
      }
    },
    {
      "cell_type": "code",
      "source": [
        "Sub SumRow()\n",
        "\n",
        "    Dim total As Double\n",
        "    total = Application.WorksheetFunction.Sum(Range(\"A1:E1\"))\n",
        "    Range(\"F1\").Value = total\n",
        "\n",
        "End Sub\n"
      ],
      "metadata": {
        "id": "cvbpzCk_KhOr"
      },
      "execution_count": null,
      "outputs": []
    }
  ]
}