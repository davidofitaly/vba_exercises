{
  "nbformat": 4,
  "nbformat_minor": 0,
  "metadata": {
    "colab": {
      "provenance": [],
      "authorship_tag": "ABX9TyO4GdiNRTmLcWJbJTz4jqub",
      "include_colab_link": true
    },
    "kernelspec": {
      "name": "python3",
      "display_name": "Python 3"
    },
    "language_info": {
      "name": "python"
    }
  },
  "cells": [
    {
      "cell_type": "markdown",
      "metadata": {
        "id": "view-in-github",
        "colab_type": "text"
      },
      "source": [
        "<a href=\"https://colab.research.google.com/github/davidofitaly/vba_exercises/blob/main/03_zadania_21_30.ipynb\" target=\"_parent\"><img src=\"https://colab.research.google.com/assets/colab-badge.svg\" alt=\"Open In Colab\"/></a>"
      ]
    },
    {
      "cell_type": "markdown",
      "source": [
        "###Zadanie 21: Wstawianie komentarza do komórki\n",
        "Opis: Napisz makro, które doda komentarz \"To jest komentarz\" do komórki D1."
      ],
      "metadata": {
        "id": "z9hz2qM3LEGQ"
      }
    },
    {
      "cell_type": "code",
      "execution_count": null,
      "metadata": {
        "id": "2DWDU9e8LAZY"
      },
      "outputs": [],
      "source": [
        "Sub AddComment()\n",
        "\n",
        "    Range(\"D1\").AddComment \"To jest komentarz\"\n",
        "\n",
        "End Sub\n"
      ]
    },
    {
      "cell_type": "markdown",
      "source": [
        "###Zadanie 22: Kopiowanie arkusza\n",
        "Opis: Napisz makro, które skopiuje bieżący arkusz i nazwie go \"KopiaArkusza\"."
      ],
      "metadata": {
        "id": "d5lCwVGBLRjz"
      }
    },
    {
      "cell_type": "code",
      "source": [
        "Sub CopySheet()\n",
        "\n",
        "    Dim ws As Worksheet\n",
        "    Set ws = ActiveSheet\n",
        "    ws.Copy After:=ws\n",
        "    ActiveSheet.Name = \"KopiaArkusza\"\n",
        "\n",
        "End Sub\n"
      ],
      "metadata": {
        "id": "Vec8jzTALUGx"
      },
      "execution_count": null,
      "outputs": []
    },
    {
      "cell_type": "markdown",
      "source": [
        "###Zadanie 23: Wstawianie Tytułu\n",
        "Opis: Dodaj tytuł „Raport miesięczny” do komórki A1 na aktywnym arkuszu i pogrub go."
      ],
      "metadata": {
        "id": "A3jAv8anM02Z"
      }
    },
    {
      "cell_type": "code",
      "source": [
        "Sub AddTitle()\n",
        "\n",
        "    With ActiveSheet\n",
        "        .Range(\"A1\").Value = \"Raport miesięczny\"\n",
        "        .Range(\"A1\").Font.Bold = True\n",
        "        .Range(\"A1\").Font.Size = 14\n",
        "        .Columns(\"A\").AutoFit\n",
        "    End With\n",
        "\n",
        "End Sub\n"
      ],
      "metadata": {
        "id": "9yfu73ZbMzZJ"
      },
      "execution_count": null,
      "outputs": []
    },
    {
      "cell_type": "markdown",
      "source": [
        "###Zadanie 24: Kolorowanie Wierszy\n",
        "Opis: Koloruj wiersze z danymi (od A2 do ostatniego używanego wiersza) na żółto, jeśli wartość w kolumnie B jest większa niż 100."
      ],
      "metadata": {
        "id": "b4KpSCmMNpom"
      }
    },
    {
      "cell_type": "code",
      "source": [
        "Sub ColorRows()\n",
        "\n",
        "    Dim lastRow As Long\n",
        "    Dim ws As Worksheet\n",
        "    Set ws = ActiveSheet\n",
        "\n",
        "    lastRow = ws.Cells(ws.Rows.Count, 1).End(xlUp).Row\n",
        "\n",
        "    For i = 2 To lastRow\n",
        "        If ws.Cells(i, 2).Value > 100 Then\n",
        "            ws.Rows(i).Interior.Color = RGB(255, 255, 0) ' Żółty kolor\n",
        "        End If\n",
        "    Next i\n",
        "\n",
        "End Sub\n"
      ],
      "metadata": {
        "id": "9nts5wLnO-Nj"
      },
      "execution_count": null,
      "outputs": []
    },
    {
      "cell_type": "markdown",
      "source": [
        "###Zadanie 25: Sortowanie Kolumny\n",
        "Opis: Posortuj dane w kolumnie A (od A2 do ostatniego używanego wiersza) w porządku rosnącym."
      ],
      "metadata": {
        "id": "puTzpa8fQLY4"
      }
    },
    {
      "cell_type": "code",
      "source": [
        "Sub SortColumn()\n",
        "\n",
        "    Dim ws As Worksheet\n",
        "    Set ws = ActiveSheet\n",
        "\n",
        "    With ws.Sort\n",
        "        .SortFields.Clear\n",
        "        .SortFields.Add Key:=ws.Range(\"A2:A\" & ws.Cells(ws.Rows.Count, 1).End(xlUp).Row), _\n",
        "            Order:=xlAscending\n",
        "        .SetRange ws.Range(\"A1:A\" & ws.Cells(ws.Rows.Count, 1).End(xlUp).Row)\n",
        "        .Apply\n",
        "    End With\n",
        "\n",
        "End Sub\n"
      ],
      "metadata": {
        "id": "t0j_RnkSQOxs"
      },
      "execution_count": null,
      "outputs": []
    },
    {
      "cell_type": "markdown",
      "source": [
        "###Zadanie 26: Kopiowanie Zakresu do Nowego Arkusza\n",
        "Opis: Skopiuj zakres od A1 do C10 z aktywnego arkusza do nowego arkusza w tym samym skoroszycie."
      ],
      "metadata": {
        "id": "7rD7_cPhRbvv"
      }
    },
    {
      "cell_type": "code",
      "source": [
        "Sub CopyRangeToNewSheet()\n",
        "\n",
        "    Dim wsSource As Worksheet\n",
        "    Dim wsDest As Worksheet\n",
        "    Set wsSource = ActiveSheet\n",
        "\n",
        "    ' Dodaj nowy arkusz\n",
        "    Set wsDest = ThisWorkbook.Sheets.Add(After:=ThisWorkbook.Sheets(ThisWorkbook.Sheets.Count))\n",
        "    wsDest.Name = \"SkopiowanyZakres\"\n",
        "\n",
        "    ' Kopiowanie zakresu\n",
        "    wsSource.Range(\"A1:C10\").Copy Destination:=wsDest.Range(\"A1\")\n",
        "\n",
        "End Sub\n"
      ],
      "metadata": {
        "id": "rMi9xYbwRgFJ"
      },
      "execution_count": null,
      "outputs": []
    },
    {
      "cell_type": "markdown",
      "source": [
        "###Zadanie 27: Usuwanie Duplikatów\n",
        "Opis: Usuń duplikaty z zakresu danych w kolumnie A (od A2 do ostatniego używanego wiersza) na aktywnym arkuszu."
      ],
      "metadata": {
        "id": "Q0ztJ2V0SUd3"
      }
    },
    {
      "cell_type": "code",
      "source": [
        "Sub RemoveDuplicates()\n",
        "\n",
        "    Dim ws As Worksheet\n",
        "    Set ws = ActiveSheet\n",
        "\n",
        "    ws.Range(\"A1:A\" & ws.Cells(ws.Rows.Count, 1).End(xlUp).Row).RemoveDuplicates Columns:=1, Header:=xlYes\n",
        "\n",
        "End Sub\n"
      ],
      "metadata": {
        "id": "8hyAxePGSaqZ"
      },
      "execution_count": null,
      "outputs": []
    },
    {
      "cell_type": "markdown",
      "source": [
        "###Zadanie 28: Dodanie Obliczenia\n",
        "Opis: Dodaj formułę sumującą wartości w kolumnie A i wstaw wynik do komórki B1 na aktywnym arkuszu."
      ],
      "metadata": {
        "id": "4V29-dwDTcoO"
      }
    },
    {
      "cell_type": "code",
      "source": [
        "Sub AddFormula()\n",
        "\n",
        "    Dim ws As Worksheet\n",
        "    Set ws = ActiveSheet\n",
        "\n",
        "    ws.Range(\"B1\").Formula = \"=SUM(A:A)\"\n",
        "\n",
        "End Sub\n"
      ],
      "metadata": {
        "id": "iiRhcgPHTe6Z"
      },
      "execution_count": null,
      "outputs": []
    },
    {
      "cell_type": "markdown",
      "source": [
        "###Zadanie 29: Wstawianie Daty\n",
        "Opis: Wstaw dzisiejszą datę do komórki D1 na aktywnym arkuszu."
      ],
      "metadata": {
        "id": "JCuMncacTtkA"
      }
    },
    {
      "cell_type": "code",
      "source": [
        "\n",
        "Sub InsertDate()\n",
        "    Dim ws As Worksheet\n",
        "    Set ws = ActiveSheet\n",
        "\n",
        "    ws.Range(\"D1\").Value = Date\n",
        "\n",
        "End Sub\n"
      ],
      "metadata": {
        "id": "pfa_XsWeTwrn"
      },
      "execution_count": null,
      "outputs": []
    },
    {
      "cell_type": "markdown",
      "source": [
        "###Zadanie 30: Automatyczne Formatowanie Komórek\n",
        "Opis: Automatycznie sformatuj komórki w kolumnie C (od C1 do C10) na czerwono, jeśli wartość jest mniejsza niż 50."
      ],
      "metadata": {
        "id": "ZzJ_LnpTT7Ld"
      }
    },
    {
      "cell_type": "code",
      "source": [
        "Sub ConditionalFormatting()\n",
        "\n",
        "    Dim ws As Worksheet\n",
        "    Set ws = ActiveSheet\n",
        "    Dim cell As Range\n",
        "\n",
        "    For Each cell In ws.Range(\"C1:C10\")\n",
        "        If cell.Value < 50 Then\n",
        "            cell.Interior.Color = RGB(255, 0, 0) ' Czerwony kolor\n",
        "        End If\n",
        "    Next cell\n",
        "\n",
        "End Sub\n"
      ],
      "metadata": {
        "id": "e4arAw_HT9Xk"
      },
      "execution_count": null,
      "outputs": []
    }
  ]
}